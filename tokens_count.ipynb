{
 "cells": [
  {
   "cell_type": "markdown",
   "metadata": {},
   "source": [
    "#### Pre-processing"
   ]
  },
  {
   "cell_type": "code",
   "execution_count": 1,
   "metadata": {},
   "outputs": [],
   "source": [
    "import pandas as pd \n",
    "import stanza\n",
    "import re\n",
    "eu_references_rs = pd.read_csv('../data/eu_references_rs.csv')\n",
    "eu_references_tr = pd.read_csv('../data/eu_references_tr.csv')"
   ]
  },
  {
   "cell_type": "code",
   "execution_count": 2,
   "metadata": {},
   "outputs": [],
   "source": [
    "# Load stopwords for Serbian\n",
    "stopwords_file = '../data/serbian.txt'\n",
    "with open(stopwords_file, 'r', encoding='utf-8') as f:\n",
    "    stopwords_list_rs  = set([line.strip() for line in f])\n",
    "    \n",
    "# Load stopwords for Turkish\n",
    "stopwords_file = '../data/stopwords-tr.txt'\n",
    "with open(stopwords_file, 'r', encoding='utf-8') as f:\n",
    "    stopwords_list = [line.strip() for line in f]\n",
    "\n",
    "# Load proper nouns for Turkish\n",
    "proper_nouns_file = '../data/isimler.txt'\n",
    "with open(proper_nouns_file, 'r', encoding='utf-8') as f:\n",
    "    proper_nouns = [line.strip().lower() for line in f]\n",
    "    # Extend stopwords with proper nouns\n",
    "stopwords_list.extend(proper_nouns)"
   ]
  },
  {
   "cell_type": "code",
   "execution_count": 3,
   "metadata": {},
   "outputs": [],
   "source": [
    "from TurkishStemmer import TurkishStemmer\n",
    "from nltk.tokenize import word_tokenize\n",
    "# Function to preprocess Turkish text\n",
    "def preprocess_text(text, stopwords_list, stemmer):\n",
    "    \n",
    "    text = re.sub(r'[^\\w\\s]', '', text) \n",
    "    text = re.sub(r'\\d+', '', text)\n",
    "    \n",
    "    tokens = word_tokenize(text)\n",
    "    \n",
    "    tokens = [stemmer.stem(token.lower()) for token in tokens if token.lower() not in stopwords_list]\n",
    "    \n",
    "    return tokens"
   ]
  },
  {
   "cell_type": "code",
   "execution_count": 10,
   "metadata": {},
   "outputs": [],
   "source": [
    "# Preprocessing for Serbian\n",
    "def preprocess_text(text, stopwords_list, nlp_pipeline):\n",
    "    # Check if text is NaN\n",
    "    if pd.isna(text):\n",
    "        return []\n",
    "    \n",
    "    # Remove punctuation and digits\n",
    "    text = re.sub(r'[^\\w\\s]', '', text)\n",
    "    text = re.sub(r'\\d+', '', text)\n",
    "    \n",
    "    # Process text with Stanza\n",
    "    doc = nlp_pipeline(text)\n",
    "    \n",
    "    # Extract lemmas and remove stopwords\n",
    "    tokens = [word.lemma.lower() for sentence in doc.sentences for word in sentence.words if word.lemma.lower() not in stopwords_list_rs]\n",
    "    return tokens\n",
    "\n",
    "def process_rows(df, stopwords_list, nlp_pipeline):\n",
    "    df['processed_speech'] = df['speech'].apply(lambda x: preprocess_text(x, stopwords_list_rs, nlp_pipeline))\n",
    "    df.update(df)\n",
    "    return df"
   ]
  },
  {
   "cell_type": "code",
   "execution_count": 8,
   "metadata": {},
   "outputs": [],
   "source": [
    "# Function to count tokens in each list\n",
    "def count_tokens(tokens_list, tokens_to_count):\n",
    "    return sum(token in tokens_to_count for token in tokens_list)"
   ]
  },
  {
   "cell_type": "markdown",
   "metadata": {},
   "source": [
    "-----"
   ]
  },
  {
   "cell_type": "code",
   "execution_count": null,
   "metadata": {},
   "outputs": [],
   "source": [
    "stemmer = TurkishStemmer()\n",
    "\n",
    "eu_references_tr['tokens'] = eu_references_tr['speech'].apply(lambda x: preprocess_text(x, stopwords_list, stemmer))\n"
   ]
  },
  {
   "cell_type": "code",
   "execution_count": null,
   "metadata": {},
   "outputs": [],
   "source": [
    "import stanza\n",
    "nlp = stanza.Pipeline(lang='sr', processors='tokenize,lemma')\n",
    "rs_minutes_tks = process_rows(eu_references_rs, stopwords_list_rs, nlp)\n",
    "\n",
    "print(rs_minutes_tks)"
   ]
  },
  {
   "cell_type": "markdown",
   "metadata": {},
   "source": [
    "#### ECONOMIC TOKENS FOR SERBIA"
   ]
  },
  {
   "cell_type": "code",
   "execution_count": 3,
   "metadata": {},
   "outputs": [],
   "source": [
    "serbian_econ = [\n",
    "    'siromaštvo', 'ekonomski', 'fond', 'budžet', 'finansijski', 'tržište', 'dinar', 'evro', 'MMF',\n",
    "    'sektor', 'resursi', 'dug', 'penzija', 'kredit', 'investicija', 'preduzeće', 'incentiv', 'PDV',\n",
    "    'plata', 'proizvod', 'proizvodnja', 'Investbanka', 'infrastruktura', 'investitor',\n",
    "    'uvoz', 'rad', 'trgovina','procvat', 'valuta', 'milion', 'porez', 'banka''radna snaga',\n",
    "    'industrijski', 'plaćanje', 'trošak', 'pomoć', 'rast', 'eurozona',\n",
    "    'izvoz', 'nezaposlenost', 'fiskalni', 'plaćanje', 'energija']"
   ]
  },
  {
   "cell_type": "code",
   "execution_count": 9,
   "metadata": {},
   "outputs": [],
   "source": [
    "# Apply the function to each row in the processed_speech column\n",
    "rs_minutes_tks['econ_counts'] = rs_minutes_tks['processed_speech'].apply(lambda x: count_tokens(x, serbian_econ))"
   ]
  },
  {
   "cell_type": "markdown",
   "metadata": {},
   "source": [
    "#### GOVERNANCE TOKENS FOR SERBIA"
   ]
  },
  {
   "cell_type": "code",
   "execution_count": 4,
   "metadata": {},
   "outputs": [],
   "source": [
    "serbian_gov = [ \n",
    "    \"sistem\", \"ustavni\", \"lokalna samouprava\", \"sudija\", \"predkandidatura\", \"kandidat\", \"postupak\",\n",
    "    \"demokratija\", \"demokrata\", \"pravna tekovina\", \"zakon\", \"referendum\", \"akt\", \"pravni\",\n",
    "    \"usklađenost\", \"sud\", \"kriterijum\", \"zakonodavstvo\", \"korumpiran\", \"veto\", \"kabinet\", \n",
    "    \"autoritet\", \"arbitraža\", \"diplomatija\", \"pravno\", \"preduslov\", \"sticanje\",\n",
    "    \"nadzor\", \"administracija\", \"koalicija\", \"birokratija\", \"transparentnost\",\"povelja\",  \n",
    "    \"vladavina prava\", \"nedeokratski\", \"izbori\", \"glasanje\", \"civilni\", \"režim\", \n",
    "    \"regulacija\", \"pravda\", \"suverenitet\", \"ilegalan\", \"tužba\", \"proces\"\n",
    "]\n"
   ]
  },
  {
   "cell_type": "code",
   "execution_count": 11,
   "metadata": {},
   "outputs": [],
   "source": [
    "rs_minutes_tks['gov_counts'] = rs_minutes_tks['processed_speech'].apply(lambda x: count_tokens(x, serbian_gov))"
   ]
  },
  {
   "cell_type": "markdown",
   "metadata": {},
   "source": [
    "#### IDENTITY TOKENS FOR SERBIA\n"
   ]
  },
  {
   "cell_type": "code",
   "execution_count": 5,
   "metadata": {},
   "outputs": [],
   "source": [
    "serbian_id = [\"narodni\", \"držav\", \"zastava\", \"ideologija\", \"panevropski\", \"albanski\", \"Kosovo\", \"identitet\", \"Slav\"\n",
    "              \"ljudi\", \"nacija\", \"istorija\", \"čovek\", \"istorijski\", \"građanin\", \"granica\", \"kultura\", \"etnički\",\n",
    "              \"socijalistički\", \"fašista\", \"fašistički\", \"nacionalista\", \"nacionalistički\", \"izbeglica\",\n",
    "              \"azil\", \"nacionalnost\", \"migranti\", \"rasizam\", \"viza\", \"sekularan\", \"ksenofobija\", \"religija\", \"verski\"]\n"
   ]
  },
  {
   "cell_type": "code",
   "execution_count": 13,
   "metadata": {},
   "outputs": [],
   "source": [
    "rs_minutes_tks['id_counts'] = rs_minutes_tks['processed_speech'].apply(lambda x: count_tokens(x, serbian_id))"
   ]
  },
  {
   "cell_type": "markdown",
   "metadata": {},
   "source": [
    "#### SECURITY TOKENS FOR SERBIA"
   ]
  },
  {
   "cell_type": "code",
   "execution_count": 6,
   "metadata": {},
   "outputs": [],
   "source": [
    "serbian_sec = [  \n",
    "  \"vanredan\", \"snaga\", \"manjina\", \"strana\", \"strategije\", \"doktrine\", \"misije\", \"bezbednosni\", \"Samit\", \"vojni\", \"paravojni\",\n",
    "  \"terorizam\", \"teroristički\", \"terorista\", \"teroristi\", \"Eulex\", \"pakta\", \"pakt\", \"paktom\", \"konflikata\"\n",
    "    \"rat\", \"mir\", \"izgradnja mira\", \"bezbednost\", \"pretnja\", \"pretiti\", \"kriv\", \"osumnjičeni\", \"sajber\", \"borba\", \"sporazum\",\n",
    "    \"zločin\", \"odbrana\", \"ekstreman\", \"trupa\", \"siguran\", \"bomba\", \"nestabilan\", \"stražar\", \"prekid vatre\", \"izbeglice\",\n",
    "    \"invazija\", \"teror\", \"antiterorizam\", \"UN\", \"NATO\", \"Ženeva\", \"borba\", \"nasilje\", \"okupacija\", \"genocid\", \"nadzor\"]"
   ]
  },
  {
   "cell_type": "code",
   "execution_count": 15,
   "metadata": {},
   "outputs": [],
   "source": [
    "rs_minutes_tks['sec_counts'] = rs_minutes_tks['processed_speech'].apply(lambda x: count_tokens(x, serbian_sec))"
   ]
  },
  {
   "cell_type": "code",
   "execution_count": 16,
   "metadata": {},
   "outputs": [],
   "source": [
    "rs_minutes_tks.to_csv('../data/rs_minutes_tks.csv', index=False)"
   ]
  },
  {
   "cell_type": "markdown",
   "metadata": {},
   "source": [
    "-----------------\n"
   ]
  },
  {
   "cell_type": "markdown",
   "metadata": {},
   "source": [
    "#### ECONOMIC TOKENS FOR TURKEY"
   ]
  },
  {
   "cell_type": "code",
   "execution_count": 37,
   "metadata": {},
   "outputs": [],
   "source": [
    "turkish_econ = [\n",
    "    \"turizm\", \"tarım\", \"enflasyon\", \"döviz\", \"finans\", \"gümrük\", \"iflas\", \"lira\", \"dolar\",  \"mevduat\", \n",
    "    \"euro\", \"açık\" , \"kapitalist\", \"asgari\", \"aylık\", \"emek\", \"emekli\", \"merkez\", \"banka\", \"borsa\", \"fabrika\"\n",
    "    \"ithal\", \"ihtalat\", \"iş\", \"meslek\", \"ticaret\", \"pazar\", \"büyüme\", \"para\", \"fon\", \"milyon\", \n",
    "     \"işgücü\", \"bütçe\", \"endüstriyel\", \"maliyet\", \"yardım\", \"büyüme\", \"kâr\", \"avro\", \"ihraç\", \"kredi\",\n",
    "    \"ihracat\", \"işsizlik\", \"borç\", \"mali\", \"ödeme\", \"vergi\", \"enerji\", \"yoksulluk\"\n",
    " ]"
   ]
  },
  {
   "cell_type": "code",
   "execution_count": 57,
   "metadata": {},
   "outputs": [
    {
     "data": {
      "text/html": [
       "<div>\n",
       "<style scoped>\n",
       "    .dataframe tbody tr th:only-of-type {\n",
       "        vertical-align: middle;\n",
       "    }\n",
       "\n",
       "    .dataframe tbody tr th {\n",
       "        vertical-align: top;\n",
       "    }\n",
       "\n",
       "    .dataframe thead th {\n",
       "        text-align: right;\n",
       "    }\n",
       "</style>\n",
       "<table border=\"1\" class=\"dataframe\">\n",
       "  <thead>\n",
       "    <tr style=\"text-align: right;\">\n",
       "      <th></th>\n",
       "      <th>Speaker_name</th>\n",
       "      <th>Speaker_role</th>\n",
       "      <th>Speaker_MP</th>\n",
       "      <th>Speaker_party</th>\n",
       "      <th>Party_status</th>\n",
       "      <th>Party_orientation</th>\n",
       "      <th>Speaker_gender</th>\n",
       "      <th>Date</th>\n",
       "      <th>speech</th>\n",
       "      <th>tokens</th>\n",
       "      <th>econ_counts</th>\n",
       "      <th>gov_counts</th>\n",
       "      <th>id_counts</th>\n",
       "      <th>sec_counts</th>\n",
       "    </tr>\n",
       "  </thead>\n",
       "  <tbody>\n",
       "    <tr>\n",
       "      <th>104</th>\n",
       "      <td>Mehmet Şimşek</td>\n",
       "      <td>Regular</td>\n",
       "      <td>MP</td>\n",
       "      <td>AKP</td>\n",
       "      <td>Coalition</td>\n",
       "      <td>Right</td>\n",
       "      <td>M</td>\n",
       "      <td>2011-12-08</td>\n",
       "      <td>17 Ekim 2011 tarihinde Türkiye Büyük Millet Me...</td>\n",
       "      <td>[ek, tarih, türki, büyük, millet, meç, sunulan...</td>\n",
       "      <td>273</td>\n",
       "      <td>10</td>\n",
       "      <td>6</td>\n",
       "      <td>10</td>\n",
       "    </tr>\n",
       "    <tr>\n",
       "      <th>4137</th>\n",
       "      <td>Berat Albayrak</td>\n",
       "      <td>Regular</td>\n",
       "      <td>notMP</td>\n",
       "      <td>AKP</td>\n",
       "      <td>Coalition</td>\n",
       "      <td>Right</td>\n",
       "      <td>M</td>\n",
       "      <td>2018-12-10</td>\n",
       "      <td>2019 Yılı Merkezi Yönetim Bütçe Kanunu Teklifi...</td>\n",
       "      <td>[yıl, merkez, yöne, bütç, kanun, teklif, yıl, ...</td>\n",
       "      <td>255</td>\n",
       "      <td>9</td>\n",
       "      <td>7</td>\n",
       "      <td>11</td>\n",
       "    </tr>\n",
       "    <tr>\n",
       "      <th>736</th>\n",
       "      <td>Mehmet Şimşek</td>\n",
       "      <td>Regular</td>\n",
       "      <td>MP</td>\n",
       "      <td>AKP</td>\n",
       "      <td>Coalition</td>\n",
       "      <td>Right</td>\n",
       "      <td>M</td>\n",
       "      <td>2012-12-10</td>\n",
       "      <td>17 Ekim 2012 tarihinde Türkiye Büyük Millet Me...</td>\n",
       "      <td>[ek, tarih, türki, büyük, millet, meç, sunulan...</td>\n",
       "      <td>254</td>\n",
       "      <td>13</td>\n",
       "      <td>7</td>\n",
       "      <td>11</td>\n",
       "    </tr>\n",
       "    <tr>\n",
       "      <th>2005</th>\n",
       "      <td>Mehmet Şimşek</td>\n",
       "      <td>Regular</td>\n",
       "      <td>MP</td>\n",
       "      <td>AKP</td>\n",
       "      <td>Coalition</td>\n",
       "      <td>Right</td>\n",
       "      <td>M</td>\n",
       "      <td>2014-12-10</td>\n",
       "      <td>Bugün 2013 yılı Merkezi Yönetim Kesin Hesap Ka...</td>\n",
       "      <td>[bugü, yıl, merkez, yöne, kes, hesap, kanun, t...</td>\n",
       "      <td>246</td>\n",
       "      <td>13</td>\n",
       "      <td>8</td>\n",
       "      <td>9</td>\n",
       "    </tr>\n",
       "    <tr>\n",
       "      <th>4465</th>\n",
       "      <td>Fuat Oktay</td>\n",
       "      <td>Regular</td>\n",
       "      <td>notMP</td>\n",
       "      <td>AKP</td>\n",
       "      <td>Coalition</td>\n",
       "      <td>Right</td>\n",
       "      <td>M</td>\n",
       "      <td>2019-12-09</td>\n",
       "      <td>Orta Doğu’daki petrol üreticilerine yönelik je...</td>\n",
       "      <td>[or, doğu, petrol, üretici, yönelik, jeopoli, ...</td>\n",
       "      <td>238</td>\n",
       "      <td>9</td>\n",
       "      <td>11</td>\n",
       "      <td>18</td>\n",
       "    </tr>\n",
       "    <tr>\n",
       "      <th>4868</th>\n",
       "      <td>Fuat Oktay</td>\n",
       "      <td>Regular</td>\n",
       "      <td>notMP</td>\n",
       "      <td>AKP</td>\n",
       "      <td>Coalition</td>\n",
       "      <td>Right</td>\n",
       "      <td>M</td>\n",
       "      <td>2020-12-07</td>\n",
       "      <td>2021 Yılı Merkezi Yönetim Bütçe Kanun Teklifi,...</td>\n",
       "      <td>[yıl, merkez, yöne, bütç, kanu, teklif, plan, ...</td>\n",
       "      <td>230</td>\n",
       "      <td>13</td>\n",
       "      <td>11</td>\n",
       "      <td>18</td>\n",
       "    </tr>\n",
       "    <tr>\n",
       "      <th>1654</th>\n",
       "      <td>Ayşenur Külahlıoğlu İslam</td>\n",
       "      <td>Regular</td>\n",
       "      <td>MP</td>\n",
       "      <td>AKP</td>\n",
       "      <td>Coalition</td>\n",
       "      <td>Right</td>\n",
       "      <td>F</td>\n",
       "      <td>2014-04-29</td>\n",
       "      <td>Sayın Reşat Doğru’nun sorusuyla başlıyorum. Sa...</td>\n",
       "      <td>[say, doğr, soru, başlıyor, say, noter, ücret,...</td>\n",
       "      <td>230</td>\n",
       "      <td>8</td>\n",
       "      <td>9</td>\n",
       "      <td>12</td>\n",
       "    </tr>\n",
       "    <tr>\n",
       "      <th>5221</th>\n",
       "      <td>Fuat Oktay</td>\n",
       "      <td>Regular</td>\n",
       "      <td>notMP</td>\n",
       "      <td>AKP</td>\n",
       "      <td>Coalition</td>\n",
       "      <td>Right</td>\n",
       "      <td>M</td>\n",
       "      <td>2021-12-06</td>\n",
       "      <td>Bütçelerimiz Cumhurbaşkanımız liderliğinde ülk...</td>\n",
       "      <td>[bütçe, cumhurbaşkan, liderlik, ülke, bugün, e...</td>\n",
       "      <td>225</td>\n",
       "      <td>8</td>\n",
       "      <td>9</td>\n",
       "      <td>8</td>\n",
       "    </tr>\n",
       "    <tr>\n",
       "      <th>3</th>\n",
       "      <td>Recep Tayyip Erdoğan</td>\n",
       "      <td>Regular</td>\n",
       "      <td>MP</td>\n",
       "      <td>AKP</td>\n",
       "      <td>Coalition</td>\n",
       "      <td>Right</td>\n",
       "      <td>M</td>\n",
       "      <td>2011-07-08</td>\n",
       "      <td>Bu vesileyle, başta cumhuriyetimizin kurucusu ...</td>\n",
       "      <td>[vesile, baş, cumhuriyet, kurucu, gazi, atatür...</td>\n",
       "      <td>190</td>\n",
       "      <td>20</td>\n",
       "      <td>17</td>\n",
       "      <td>20</td>\n",
       "    </tr>\n",
       "    <tr>\n",
       "      <th>1402</th>\n",
       "      <td>Mehmet Şimşek</td>\n",
       "      <td>Regular</td>\n",
       "      <td>MP</td>\n",
       "      <td>AKP</td>\n",
       "      <td>Coalition</td>\n",
       "      <td>Right</td>\n",
       "      <td>M</td>\n",
       "      <td>2013-12-10</td>\n",
       "      <td>Devletin teşkilat yapısına, hazine birliği ilk...</td>\n",
       "      <td>[devl, teşkilat, yapı, hazin, birlik, ilke, ge...</td>\n",
       "      <td>189</td>\n",
       "      <td>11</td>\n",
       "      <td>4</td>\n",
       "      <td>6</td>\n",
       "    </tr>\n",
       "  </tbody>\n",
       "</table>\n",
       "</div>"
      ],
      "text/plain": [
       "                   Speaker_name Speaker_role Speaker_MP Speaker_party  \\\n",
       "104               Mehmet Şimşek      Regular         MP           AKP   \n",
       "4137             Berat Albayrak      Regular      notMP           AKP   \n",
       "736               Mehmet Şimşek      Regular         MP           AKP   \n",
       "2005              Mehmet Şimşek      Regular         MP           AKP   \n",
       "4465                 Fuat Oktay      Regular      notMP           AKP   \n",
       "4868                 Fuat Oktay      Regular      notMP           AKP   \n",
       "1654  Ayşenur Külahlıoğlu İslam      Regular         MP           AKP   \n",
       "5221                 Fuat Oktay      Regular      notMP           AKP   \n",
       "3          Recep Tayyip Erdoğan      Regular         MP           AKP   \n",
       "1402              Mehmet Şimşek      Regular         MP           AKP   \n",
       "\n",
       "     Party_status Party_orientation Speaker_gender        Date  \\\n",
       "104     Coalition             Right              M  2011-12-08   \n",
       "4137    Coalition             Right              M  2018-12-10   \n",
       "736     Coalition             Right              M  2012-12-10   \n",
       "2005    Coalition             Right              M  2014-12-10   \n",
       "4465    Coalition             Right              M  2019-12-09   \n",
       "4868    Coalition             Right              M  2020-12-07   \n",
       "1654    Coalition             Right              F  2014-04-29   \n",
       "5221    Coalition             Right              M  2021-12-06   \n",
       "3       Coalition             Right              M  2011-07-08   \n",
       "1402    Coalition             Right              M  2013-12-10   \n",
       "\n",
       "                                                 speech  \\\n",
       "104   17 Ekim 2011 tarihinde Türkiye Büyük Millet Me...   \n",
       "4137  2019 Yılı Merkezi Yönetim Bütçe Kanunu Teklifi...   \n",
       "736   17 Ekim 2012 tarihinde Türkiye Büyük Millet Me...   \n",
       "2005  Bugün 2013 yılı Merkezi Yönetim Kesin Hesap Ka...   \n",
       "4465  Orta Doğu’daki petrol üreticilerine yönelik je...   \n",
       "4868  2021 Yılı Merkezi Yönetim Bütçe Kanun Teklifi,...   \n",
       "1654  Sayın Reşat Doğru’nun sorusuyla başlıyorum. Sa...   \n",
       "5221  Bütçelerimiz Cumhurbaşkanımız liderliğinde ülk...   \n",
       "3     Bu vesileyle, başta cumhuriyetimizin kurucusu ...   \n",
       "1402  Devletin teşkilat yapısına, hazine birliği ilk...   \n",
       "\n",
       "                                                 tokens  econ_counts  \\\n",
       "104   [ek, tarih, türki, büyük, millet, meç, sunulan...          273   \n",
       "4137  [yıl, merkez, yöne, bütç, kanun, teklif, yıl, ...          255   \n",
       "736   [ek, tarih, türki, büyük, millet, meç, sunulan...          254   \n",
       "2005  [bugü, yıl, merkez, yöne, kes, hesap, kanun, t...          246   \n",
       "4465  [or, doğu, petrol, üretici, yönelik, jeopoli, ...          238   \n",
       "4868  [yıl, merkez, yöne, bütç, kanu, teklif, plan, ...          230   \n",
       "1654  [say, doğr, soru, başlıyor, say, noter, ücret,...          230   \n",
       "5221  [bütçe, cumhurbaşkan, liderlik, ülke, bugün, e...          225   \n",
       "3     [vesile, baş, cumhuriyet, kurucu, gazi, atatür...          190   \n",
       "1402  [devl, teşkilat, yapı, hazin, birlik, ilke, ge...          189   \n",
       "\n",
       "      gov_counts  id_counts  sec_counts  \n",
       "104           10          6          10  \n",
       "4137           9          7          11  \n",
       "736           13          7          11  \n",
       "2005          13          8           9  \n",
       "4465           9         11          18  \n",
       "4868          13         11          18  \n",
       "1654           8          9          12  \n",
       "5221           8          9           8  \n",
       "3             20         17          20  \n",
       "1402          11          4           6  "
      ]
     },
     "metadata": {},
     "output_type": "display_data"
    }
   ],
   "source": [
    "eu_references_tr['econ_counts'] = eu_references_tr['tokens'].apply(lambda x: count_tokens(x, turkish_econ))\n",
    "display(eu_references_tr.sort_values(by='econ_counts', ascending=False).head(10))"
   ]
  },
  {
   "cell_type": "markdown",
   "metadata": {},
   "source": [
    "#### GOVERNANCE TOKENS FOR TURKEY\n"
   ]
  },
  {
   "cell_type": "code",
   "execution_count": 39,
   "metadata": {},
   "outputs": [],
   "source": [
    "turkish_gov = [\n",
    "    \"müktesebat\", \"ihale\", \" politika\", \"yasa\", \"kamu\", \"önerge\", \"komisyon\", \"ortak\", 'rapor',\n",
    "    \"kriter\", \"demokrasi\",\"demokrat\", \"kazanım\", \"referandum\", \"kanun\", \"hukuki\", \"mahkeme\", \"direktif\",\n",
    "    \"kriter\", \"yasama\", \"yolsuzluk\", \"veto\", \"kabine\", \"şartname\", \"otokrat\", \"arabulucu\", \"anayasa\", \n",
    "    \"diplomasi\", \"önkoşul\", \"denetim\", \"yönetim\", \"koalisyon\", \"bürokrasi\", \"şeffaflık\", \"dava\", \"tüzük\",\n",
    "     \"seçim\", \"sivil\",\"rejim\", \"düzenleme\",\"adalet\", \"egemenlik\", \"yasadışı\" \n",
    "]"
   ]
  },
  {
   "cell_type": "code",
   "execution_count": null,
   "metadata": {},
   "outputs": [],
   "source": [
    "eu_references_tr['gov_counts'] = eu_references_tr['tokens'].apply(lambda x: count_tokens(x, turkish_gov))\n"
   ]
  },
  {
   "cell_type": "markdown",
   "metadata": {},
   "source": [
    "#### IDENTITY TOKENS FOR TURKEY\n"
   ]
  },
  {
   "cell_type": "code",
   "execution_count": 41,
   "metadata": {},
   "outputs": [],
   "source": [
    "turkish_id = [\n",
    "    \"kürt\", \"millî\", \"halk\", \"toplumsal\", \"müslüman\", \"islam\", \"aile\", \"avrupacılık\", \"insanlık\",\n",
    "    \"uyum\", \"entegrasyon\", \"yabancı\", \"gelenek\", \"dil\", \"azınlık\", \"diaspora\", \"entegrasyon\",\n",
    "    \"toplum\", \"ulus\", \"tarih\", \"insan\", \"tarihi\", \"vatandaş\", \"sınır\", \"kültür\", \"sosyalist\", \"faşist\",\n",
    "    \"milliyetçi\", \"mülteci\", \"sığınma\", \"göçmen\", \"bayrak\", \"ırkçılık\", \"vize\", \"laik\", \"adet\",\n",
    "    \"din\", \"kimlik\", \"dini\"\n",
    "    ]"
   ]
  },
  {
   "cell_type": "code",
   "execution_count": null,
   "metadata": {},
   "outputs": [],
   "source": [
    "eu_references_tr['id_counts'] = eu_references_tr['tokens'].apply(lambda x: count_tokens(x, turkish_id))"
   ]
  },
  {
   "cell_type": "markdown",
   "metadata": {},
   "source": [
    "#### SECURITY TOKENS FOR TURKEY"
   ]
  },
  {
   "cell_type": "code",
   "execution_count": 43,
   "metadata": {},
   "outputs": [],
   "source": [
    "turkish_sec = [\n",
    "    \"terör\", \"örgüt\", \"suriye\", \"silah\", \"kuvvet\", \"sınır\", \"devlet\", \"asker\", \"irak\", \"güvenlik\", \n",
    "    \"askerî\", \"güç\", \"saldırı\", \"silahlı\", \"darbe\", \"çatışma\", \"ordu\", \"özgürlük\", \"cezaevi\", \n",
    "    \"hapishane\", \"şehit\", \"gözaltı\", \"fail\", \"katliam\",  \"suç\", \"dava\", \"cinayet\", \"fetö\", \n",
    "    \"savaş\", \"barış\", \"güvenlik\", \"stabil\", \"dayanıklılık\", \"savunma\", \"ekstrem\", \"tehdit\", \n",
    "    \"suç\", \"suçlu\", \"instabil\", \"hapis\", \"birlik\", \"emniyet\", \"bomba\", \"koruma\", \"soykırım\",\n",
    "    \"saldırgan\", \"tutuklu\", \"katil\", \"şiddet\", \"ateşkes\", \"istila\", \"soykırım\", \n",
    "    \"savaşmak\", \"düşman\", \"Geneva\", \"un\", \"nato\", \"terörist\", \"kaçak\", \"kaçakçılık\",  \"işgal\"\n",
    "]"
   ]
  },
  {
   "cell_type": "code",
   "execution_count": null,
   "metadata": {},
   "outputs": [],
   "source": [
    "eu_references_tr['sec_counts'] = eu_references_tr['tokens'].apply(lambda x: count_tokens(x, turkish_sec))\n",
    "display(eu_references_tr.sort_values(by='sec_counts', ascending=False).head(10))"
   ]
  },
  {
   "cell_type": "code",
   "execution_count": 60,
   "metadata": {},
   "outputs": [],
   "source": [
    "#write as csv file\n",
    "eu_references_tr.drop(columns=['tokens']).to_csv('../data/tr_minutes_tks.csv', index=False)"
   ]
  },
  {
   "cell_type": "code",
   "execution_count": 4,
   "metadata": {},
   "outputs": [],
   "source": [
    "non_eu_turkish = pd.read_csv('../data/diff_df.csv')"
   ]
  },
  {
   "cell_type": "code",
   "execution_count": 49,
   "metadata": {},
   "outputs": [],
   "source": [
    "non_eu_turkish['id_counts'] = non_eu_turkish['tokens'].apply(lambda x: count_tokens(x, turkish_id))\n",
    "non_eu_turkish['econ_counts'] = non_eu_turkish['tokens'].apply(lambda x: count_tokens(x, turkish_econ))\n",
    "non_eu_turkish['gov_counts'] = non_eu_turkish['tokens'].apply(lambda x: count_tokens(x, turkish_gov))\n",
    "non_eu_turkish['sec_counts'] = non_eu_turkish['tokens'].apply(lambda x: count_tokens(x, turkish_sec))\n",
    "non_eu_turkish.drop(columns=['tokens']).to_csv('../data/non_eu_turkish.csv', index=False)"
   ]
  },
  {
   "cell_type": "code",
   "execution_count": null,
   "metadata": {},
   "outputs": [],
   "source": [
    "import pandas as pd\n",
    "import re\n",
    "import stanza\n",
    "from concurrent.futures import ThreadPoolExecutor, as_completed\n",
    "\n",
    "# Load stopwords\n",
    "stopwords_file = '../data/serbian.txt'\n",
    "with open(stopwords_file, 'r', encoding='utf-8') as f:\n",
    "    stopwords_list_rs = set(line.strip().lower() for line in f)  # Ensure stopwords are in lowercase\n",
    "\n",
    "# Initialize Stanza pipeline\n",
    "nlp = stanza.Pipeline(lang='sr', processors='tokenize,lemma')\n",
    "\n",
    "def preprocess_text(text, stopwords_list, nlp_pipeline):\n",
    "    # Check if text is NaN\n",
    "    if pd.isna(text):\n",
    "        return []\n",
    "    \n",
    "    # Remove punctuation and digits\n",
    "    text = re.sub(r'[^\\w\\s]', '', text)\n",
    "    text = re.sub(r'\\d+', '', text)\n",
    "    \n",
    "    # Process text with Stanza\n",
    "    doc = nlp_pipeline(text)\n",
    "    \n",
    "    # Extract lemmas and remove stopwords\n",
    "    tokens = [\n",
    "        word.lemma.lower() for sentence in doc.sentences\n",
    "        for word in sentence.words\n",
    "        if word.lemma.lower() not in stopwords_list\n",
    "    ]\n",
    "    return tokens\n",
    "\n",
    "def process_texts_batch(texts, stopwords_list, nlp_pipeline):\n",
    "    return [preprocess_text(text, stopwords_list, nlp_pipeline) for text in texts]\n",
    "\n",
    "def process_rows(df, stopwords_list, nlp_pipeline, batch_size=100):\n",
    "    num_batches = (len(df) + batch_size - 1) // batch_size\n",
    "    results = []\n",
    "    \n",
    "    # Process each batch in parallel\n",
    "    with ThreadPoolExecutor() as executor:\n",
    "        futures = [executor.submit(process_texts_batch, df['speech'].iloc[i*batch_size:(i+1)*batch_size].tolist(), stopwords_list, nlp_pipeline)\n",
    "                   for i in range(num_batches)]\n",
    "        \n",
    "        for future in as_completed(futures):\n",
    "            results.extend(future.result())\n",
    "    \n",
    "    df['processed_speech'] = results\n",
    "    return df\n",
    "\n",
    "# Read the first 10 rows for demonstration\n",
    "non_eu_serbian = pd.read_csv('../data/non_eu_speeches_rs.csv')\n",
    "non_eu_serbian = non_eu_serbian[non_eu_serbian['speech'].str.len() > 100]\n",
    "# sample non_eu_serbian as the size of eu_references_rs \n",
    "sample_size = len(eu_references_rs)\n",
    "\n",
    "# Randomly sample rows from non_eu_serbian\n",
    "sampled_non_eu_serbian = non_eu_serbian.sample(n=sample_size, random_state=42)\n",
    "# Process rows with parallel processing\n",
    "sampled_non_eu_serbian = process_rows(sampled_non_eu_serbian, stopwords_list_rs, nlp)"
   ]
  },
  {
   "cell_type": "code",
   "execution_count": 9,
   "metadata": {},
   "outputs": [],
   "source": [
    "sampled_non_eu_serbian['id_counts'] = sampled_non_eu_serbian['processed_speech'].apply(lambda x: count_tokens(x, serbian_id))\n",
    "sampled_non_eu_serbian['econ_counts'] = sampled_non_eu_serbian['processed_speech'].apply(lambda x: count_tokens(x, serbian_econ))\n",
    "sampled_non_eu_serbian['gov_counts'] = sampled_non_eu_serbian['processed_speech'].apply(lambda x: count_tokens(x, serbian_gov))\n",
    "sampled_non_eu_serbian['sec_counts'] = sampled_non_eu_serbian['processed_speech'].apply(lambda x: count_tokens(x, serbian_sec))"
   ]
  },
  {
   "cell_type": "code",
   "execution_count": null,
   "metadata": {},
   "outputs": [],
   "source": [
    "sampled_non_eu_serbian.drop(columns=['processed_speech']).to_csv('../data/non_eu_serbian.csv', index=False)"
   ]
  },
  {
   "cell_type": "code",
   "execution_count": 15,
   "metadata": {},
   "outputs": [
    {
     "data": {
      "application/vnd.plotly.v1+json": {
       "config": {
        "plotlyServerURL": "https://plot.ly"
       },
       "data": [
        {
         "line": {
          "color": "blue",
          "dash": "dash"
         },
         "mode": "lines",
         "name": "IPA Reference Ratio",
         "type": "scatter",
         "x": [
          "2011-07-01T00:00:00",
          "2011-10-01T00:00:00",
          "2011-11-01T00:00:00",
          "2011-12-01T00:00:00",
          "2012-01-01T00:00:00",
          "2012-02-01T00:00:00",
          "2012-03-01T00:00:00",
          "2012-04-01T00:00:00",
          "2012-05-01T00:00:00",
          "2012-06-01T00:00:00",
          "2012-07-01T00:00:00",
          "2012-10-01T00:00:00",
          "2012-11-01T00:00:00",
          "2012-12-01T00:00:00",
          "2013-01-01T00:00:00",
          "2013-02-01T00:00:00",
          "2013-03-01T00:00:00",
          "2013-04-01T00:00:00",
          "2013-05-01T00:00:00",
          "2013-06-01T00:00:00",
          "2013-07-01T00:00:00",
          "2013-10-01T00:00:00",
          "2013-11-01T00:00:00",
          "2013-12-01T00:00:00",
          "2014-01-01T00:00:00",
          "2014-02-01T00:00:00",
          "2014-03-01T00:00:00",
          "2014-04-01T00:00:00",
          "2014-05-01T00:00:00",
          "2014-06-01T00:00:00",
          "2014-07-01T00:00:00",
          "2014-08-01T00:00:00",
          "2014-09-01T00:00:00",
          "2014-10-01T00:00:00",
          "2014-11-01T00:00:00",
          "2014-12-01T00:00:00",
          "2015-01-01T00:00:00",
          "2015-02-01T00:00:00",
          "2015-03-01T00:00:00",
          "2015-04-01T00:00:00",
          "2015-07-01T00:00:00",
          "2015-10-01T00:00:00",
          "2015-11-01T00:00:00",
          "2015-12-01T00:00:00",
          "2016-01-01T00:00:00",
          "2016-02-01T00:00:00",
          "2016-03-01T00:00:00",
          "2016-04-01T00:00:00",
          "2016-05-01T00:00:00",
          "2016-06-01T00:00:00",
          "2016-07-01T00:00:00",
          "2016-08-01T00:00:00",
          "2016-10-01T00:00:00",
          "2016-11-01T00:00:00",
          "2016-12-01T00:00:00",
          "2017-01-01T00:00:00",
          "2017-02-01T00:00:00",
          "2017-03-01T00:00:00",
          "2017-04-01T00:00:00",
          "2017-05-01T00:00:00",
          "2017-06-01T00:00:00",
          "2017-07-01T00:00:00",
          "2017-09-01T00:00:00",
          "2017-10-01T00:00:00",
          "2017-11-01T00:00:00",
          "2017-12-01T00:00:00",
          "2018-01-01T00:00:00",
          "2018-02-01T00:00:00",
          "2018-03-01T00:00:00",
          "2018-04-01T00:00:00",
          "2018-05-01T00:00:00",
          "2018-07-01T00:00:00",
          "2018-10-01T00:00:00",
          "2018-11-01T00:00:00",
          "2018-12-01T00:00:00",
          "2019-01-01T00:00:00",
          "2019-02-01T00:00:00",
          "2019-04-01T00:00:00",
          "2019-05-01T00:00:00",
          "2019-06-01T00:00:00",
          "2019-07-01T00:00:00",
          "2019-10-01T00:00:00",
          "2019-11-01T00:00:00",
          "2019-12-01T00:00:00",
          "2020-01-01T00:00:00",
          "2020-02-01T00:00:00",
          "2020-03-01T00:00:00",
          "2020-04-01T00:00:00",
          "2020-06-01T00:00:00",
          "2020-07-01T00:00:00",
          "2020-10-01T00:00:00",
          "2020-11-01T00:00:00",
          "2020-12-01T00:00:00",
          "2021-01-01T00:00:00",
          "2021-02-01T00:00:00",
          "2021-03-01T00:00:00",
          "2021-04-01T00:00:00",
          "2021-05-01T00:00:00",
          "2021-06-01T00:00:00",
          "2021-07-01T00:00:00",
          "2021-10-01T00:00:00",
          "2021-11-01T00:00:00",
          "2021-12-01T00:00:00",
          "2022-01-01T00:00:00",
          "2022-02-01T00:00:00",
          "2022-03-01T00:00:00",
          "2022-04-01T00:00:00",
          "2022-05-01T00:00:00",
          "2022-06-01T00:00:00",
          "2022-07-01T00:00:00",
          "2022-10-01T00:00:00",
          "2022-11-01T00:00:00"
         ],
         "y": [
          0,
          0,
          0,
          0.02564102564102564,
          0.022727272727272728,
          0.02702702702702703,
          0,
          0,
          0,
          0,
          0.058823529411764705,
          0.024096385542168676,
          0,
          0.008928571428571428,
          0.03278688524590164,
          0,
          0,
          0.057692307692307696,
          0,
          0.015384615384615385,
          0,
          0,
          0.017543859649122806,
          0.008403361344537815,
          0,
          0.020833333333333332,
          0,
          0.024390243902439025,
          0,
          0.0196078431372549,
          0.06349206349206349,
          0,
          0,
          0,
          0,
          0.03333333333333333,
          0,
          0,
          0,
          0.058823529411764705,
          0,
          0,
          0,
          0,
          0.018518518518518517,
          0.041666666666666664,
          0.015,
          0.03636363636363636,
          0,
          0,
          0,
          0.038461538461538464,
          0.07407407407407407,
          0.02247191011235955,
          0,
          0,
          0,
          0.03333333333333333,
          0,
          0.03225806451612903,
          0.029411764705882353,
          0.08695652173913043,
          0,
          0,
          0,
          0.045454545454545456,
          0,
          0.07142857142857142,
          0,
          0.03571428571428571,
          0.07692307692307693,
          0,
          0.038461538461538464,
          0,
          0.046875,
          0.05,
          0,
          0,
          0,
          0,
          0,
          0,
          0.02564102564102564,
          0.008130081300813009,
          0.05263157894736842,
          0.017543859649122806,
          0,
          0,
          0,
          0,
          0.08695652173913043,
          0,
          0,
          0,
          0,
          0.04,
          0,
          0,
          0,
          0,
          0,
          0,
          0.015151515151515152,
          0,
          0,
          0,
          0,
          0,
          0,
          0,
          0,
          0
         ]
        }
       ],
       "layout": {
        "height": 600,
        "showlegend": true,
        "template": {
         "data": {
          "bar": [
           {
            "error_x": {
             "color": "#2a3f5f"
            },
            "error_y": {
             "color": "#2a3f5f"
            },
            "marker": {
             "line": {
              "color": "#E5ECF6",
              "width": 0.5
             },
             "pattern": {
              "fillmode": "overlay",
              "size": 10,
              "solidity": 0.2
             }
            },
            "type": "bar"
           }
          ],
          "barpolar": [
           {
            "marker": {
             "line": {
              "color": "#E5ECF6",
              "width": 0.5
             },
             "pattern": {
              "fillmode": "overlay",
              "size": 10,
              "solidity": 0.2
             }
            },
            "type": "barpolar"
           }
          ],
          "carpet": [
           {
            "aaxis": {
             "endlinecolor": "#2a3f5f",
             "gridcolor": "white",
             "linecolor": "white",
             "minorgridcolor": "white",
             "startlinecolor": "#2a3f5f"
            },
            "baxis": {
             "endlinecolor": "#2a3f5f",
             "gridcolor": "white",
             "linecolor": "white",
             "minorgridcolor": "white",
             "startlinecolor": "#2a3f5f"
            },
            "type": "carpet"
           }
          ],
          "choropleth": [
           {
            "colorbar": {
             "outlinewidth": 0,
             "ticks": ""
            },
            "type": "choropleth"
           }
          ],
          "contour": [
           {
            "colorbar": {
             "outlinewidth": 0,
             "ticks": ""
            },
            "colorscale": [
             [
              0,
              "#0d0887"
             ],
             [
              0.1111111111111111,
              "#46039f"
             ],
             [
              0.2222222222222222,
              "#7201a8"
             ],
             [
              0.3333333333333333,
              "#9c179e"
             ],
             [
              0.4444444444444444,
              "#bd3786"
             ],
             [
              0.5555555555555556,
              "#d8576b"
             ],
             [
              0.6666666666666666,
              "#ed7953"
             ],
             [
              0.7777777777777778,
              "#fb9f3a"
             ],
             [
              0.8888888888888888,
              "#fdca26"
             ],
             [
              1,
              "#f0f921"
             ]
            ],
            "type": "contour"
           }
          ],
          "contourcarpet": [
           {
            "colorbar": {
             "outlinewidth": 0,
             "ticks": ""
            },
            "type": "contourcarpet"
           }
          ],
          "heatmap": [
           {
            "colorbar": {
             "outlinewidth": 0,
             "ticks": ""
            },
            "colorscale": [
             [
              0,
              "#0d0887"
             ],
             [
              0.1111111111111111,
              "#46039f"
             ],
             [
              0.2222222222222222,
              "#7201a8"
             ],
             [
              0.3333333333333333,
              "#9c179e"
             ],
             [
              0.4444444444444444,
              "#bd3786"
             ],
             [
              0.5555555555555556,
              "#d8576b"
             ],
             [
              0.6666666666666666,
              "#ed7953"
             ],
             [
              0.7777777777777778,
              "#fb9f3a"
             ],
             [
              0.8888888888888888,
              "#fdca26"
             ],
             [
              1,
              "#f0f921"
             ]
            ],
            "type": "heatmap"
           }
          ],
          "heatmapgl": [
           {
            "colorbar": {
             "outlinewidth": 0,
             "ticks": ""
            },
            "colorscale": [
             [
              0,
              "#0d0887"
             ],
             [
              0.1111111111111111,
              "#46039f"
             ],
             [
              0.2222222222222222,
              "#7201a8"
             ],
             [
              0.3333333333333333,
              "#9c179e"
             ],
             [
              0.4444444444444444,
              "#bd3786"
             ],
             [
              0.5555555555555556,
              "#d8576b"
             ],
             [
              0.6666666666666666,
              "#ed7953"
             ],
             [
              0.7777777777777778,
              "#fb9f3a"
             ],
             [
              0.8888888888888888,
              "#fdca26"
             ],
             [
              1,
              "#f0f921"
             ]
            ],
            "type": "heatmapgl"
           }
          ],
          "histogram": [
           {
            "marker": {
             "pattern": {
              "fillmode": "overlay",
              "size": 10,
              "solidity": 0.2
             }
            },
            "type": "histogram"
           }
          ],
          "histogram2d": [
           {
            "colorbar": {
             "outlinewidth": 0,
             "ticks": ""
            },
            "colorscale": [
             [
              0,
              "#0d0887"
             ],
             [
              0.1111111111111111,
              "#46039f"
             ],
             [
              0.2222222222222222,
              "#7201a8"
             ],
             [
              0.3333333333333333,
              "#9c179e"
             ],
             [
              0.4444444444444444,
              "#bd3786"
             ],
             [
              0.5555555555555556,
              "#d8576b"
             ],
             [
              0.6666666666666666,
              "#ed7953"
             ],
             [
              0.7777777777777778,
              "#fb9f3a"
             ],
             [
              0.8888888888888888,
              "#fdca26"
             ],
             [
              1,
              "#f0f921"
             ]
            ],
            "type": "histogram2d"
           }
          ],
          "histogram2dcontour": [
           {
            "colorbar": {
             "outlinewidth": 0,
             "ticks": ""
            },
            "colorscale": [
             [
              0,
              "#0d0887"
             ],
             [
              0.1111111111111111,
              "#46039f"
             ],
             [
              0.2222222222222222,
              "#7201a8"
             ],
             [
              0.3333333333333333,
              "#9c179e"
             ],
             [
              0.4444444444444444,
              "#bd3786"
             ],
             [
              0.5555555555555556,
              "#d8576b"
             ],
             [
              0.6666666666666666,
              "#ed7953"
             ],
             [
              0.7777777777777778,
              "#fb9f3a"
             ],
             [
              0.8888888888888888,
              "#fdca26"
             ],
             [
              1,
              "#f0f921"
             ]
            ],
            "type": "histogram2dcontour"
           }
          ],
          "mesh3d": [
           {
            "colorbar": {
             "outlinewidth": 0,
             "ticks": ""
            },
            "type": "mesh3d"
           }
          ],
          "parcoords": [
           {
            "line": {
             "colorbar": {
              "outlinewidth": 0,
              "ticks": ""
             }
            },
            "type": "parcoords"
           }
          ],
          "pie": [
           {
            "automargin": true,
            "type": "pie"
           }
          ],
          "scatter": [
           {
            "fillpattern": {
             "fillmode": "overlay",
             "size": 10,
             "solidity": 0.2
            },
            "type": "scatter"
           }
          ],
          "scatter3d": [
           {
            "line": {
             "colorbar": {
              "outlinewidth": 0,
              "ticks": ""
             }
            },
            "marker": {
             "colorbar": {
              "outlinewidth": 0,
              "ticks": ""
             }
            },
            "type": "scatter3d"
           }
          ],
          "scattercarpet": [
           {
            "marker": {
             "colorbar": {
              "outlinewidth": 0,
              "ticks": ""
             }
            },
            "type": "scattercarpet"
           }
          ],
          "scattergeo": [
           {
            "marker": {
             "colorbar": {
              "outlinewidth": 0,
              "ticks": ""
             }
            },
            "type": "scattergeo"
           }
          ],
          "scattergl": [
           {
            "marker": {
             "colorbar": {
              "outlinewidth": 0,
              "ticks": ""
             }
            },
            "type": "scattergl"
           }
          ],
          "scattermapbox": [
           {
            "marker": {
             "colorbar": {
              "outlinewidth": 0,
              "ticks": ""
             }
            },
            "type": "scattermapbox"
           }
          ],
          "scatterpolar": [
           {
            "marker": {
             "colorbar": {
              "outlinewidth": 0,
              "ticks": ""
             }
            },
            "type": "scatterpolar"
           }
          ],
          "scatterpolargl": [
           {
            "marker": {
             "colorbar": {
              "outlinewidth": 0,
              "ticks": ""
             }
            },
            "type": "scatterpolargl"
           }
          ],
          "scatterternary": [
           {
            "marker": {
             "colorbar": {
              "outlinewidth": 0,
              "ticks": ""
             }
            },
            "type": "scatterternary"
           }
          ],
          "surface": [
           {
            "colorbar": {
             "outlinewidth": 0,
             "ticks": ""
            },
            "colorscale": [
             [
              0,
              "#0d0887"
             ],
             [
              0.1111111111111111,
              "#46039f"
             ],
             [
              0.2222222222222222,
              "#7201a8"
             ],
             [
              0.3333333333333333,
              "#9c179e"
             ],
             [
              0.4444444444444444,
              "#bd3786"
             ],
             [
              0.5555555555555556,
              "#d8576b"
             ],
             [
              0.6666666666666666,
              "#ed7953"
             ],
             [
              0.7777777777777778,
              "#fb9f3a"
             ],
             [
              0.8888888888888888,
              "#fdca26"
             ],
             [
              1,
              "#f0f921"
             ]
            ],
            "type": "surface"
           }
          ],
          "table": [
           {
            "cells": {
             "fill": {
              "color": "#EBF0F8"
             },
             "line": {
              "color": "white"
             }
            },
            "header": {
             "fill": {
              "color": "#C8D4E3"
             },
             "line": {
              "color": "white"
             }
            },
            "type": "table"
           }
          ]
         },
         "layout": {
          "annotationdefaults": {
           "arrowcolor": "#2a3f5f",
           "arrowhead": 0,
           "arrowwidth": 1
          },
          "autotypenumbers": "strict",
          "coloraxis": {
           "colorbar": {
            "outlinewidth": 0,
            "ticks": ""
           }
          },
          "colorscale": {
           "diverging": [
            [
             0,
             "#8e0152"
            ],
            [
             0.1,
             "#c51b7d"
            ],
            [
             0.2,
             "#de77ae"
            ],
            [
             0.3,
             "#f1b6da"
            ],
            [
             0.4,
             "#fde0ef"
            ],
            [
             0.5,
             "#f7f7f7"
            ],
            [
             0.6,
             "#e6f5d0"
            ],
            [
             0.7,
             "#b8e186"
            ],
            [
             0.8,
             "#7fbc41"
            ],
            [
             0.9,
             "#4d9221"
            ],
            [
             1,
             "#276419"
            ]
           ],
           "sequential": [
            [
             0,
             "#0d0887"
            ],
            [
             0.1111111111111111,
             "#46039f"
            ],
            [
             0.2222222222222222,
             "#7201a8"
            ],
            [
             0.3333333333333333,
             "#9c179e"
            ],
            [
             0.4444444444444444,
             "#bd3786"
            ],
            [
             0.5555555555555556,
             "#d8576b"
            ],
            [
             0.6666666666666666,
             "#ed7953"
            ],
            [
             0.7777777777777778,
             "#fb9f3a"
            ],
            [
             0.8888888888888888,
             "#fdca26"
            ],
            [
             1,
             "#f0f921"
            ]
           ],
           "sequentialminus": [
            [
             0,
             "#0d0887"
            ],
            [
             0.1111111111111111,
             "#46039f"
            ],
            [
             0.2222222222222222,
             "#7201a8"
            ],
            [
             0.3333333333333333,
             "#9c179e"
            ],
            [
             0.4444444444444444,
             "#bd3786"
            ],
            [
             0.5555555555555556,
             "#d8576b"
            ],
            [
             0.6666666666666666,
             "#ed7953"
            ],
            [
             0.7777777777777778,
             "#fb9f3a"
            ],
            [
             0.8888888888888888,
             "#fdca26"
            ],
            [
             1,
             "#f0f921"
            ]
           ]
          },
          "colorway": [
           "#636efa",
           "#EF553B",
           "#00cc96",
           "#ab63fa",
           "#FFA15A",
           "#19d3f3",
           "#FF6692",
           "#B6E880",
           "#FF97FF",
           "#FECB52"
          ],
          "font": {
           "color": "#2a3f5f"
          },
          "geo": {
           "bgcolor": "white",
           "lakecolor": "white",
           "landcolor": "#E5ECF6",
           "showlakes": true,
           "showland": true,
           "subunitcolor": "white"
          },
          "hoverlabel": {
           "align": "left"
          },
          "hovermode": "closest",
          "mapbox": {
           "style": "light"
          },
          "paper_bgcolor": "white",
          "plot_bgcolor": "#E5ECF6",
          "polar": {
           "angularaxis": {
            "gridcolor": "white",
            "linecolor": "white",
            "ticks": ""
           },
           "bgcolor": "#E5ECF6",
           "radialaxis": {
            "gridcolor": "white",
            "linecolor": "white",
            "ticks": ""
           }
          },
          "scene": {
           "xaxis": {
            "backgroundcolor": "#E5ECF6",
            "gridcolor": "white",
            "gridwidth": 2,
            "linecolor": "white",
            "showbackground": true,
            "ticks": "",
            "zerolinecolor": "white"
           },
           "yaxis": {
            "backgroundcolor": "#E5ECF6",
            "gridcolor": "white",
            "gridwidth": 2,
            "linecolor": "white",
            "showbackground": true,
            "ticks": "",
            "zerolinecolor": "white"
           },
           "zaxis": {
            "backgroundcolor": "#E5ECF6",
            "gridcolor": "white",
            "gridwidth": 2,
            "linecolor": "white",
            "showbackground": true,
            "ticks": "",
            "zerolinecolor": "white"
           }
          },
          "shapedefaults": {
           "line": {
            "color": "#2a3f5f"
           }
          },
          "ternary": {
           "aaxis": {
            "gridcolor": "white",
            "linecolor": "white",
            "ticks": ""
           },
           "baxis": {
            "gridcolor": "white",
            "linecolor": "white",
            "ticks": ""
           },
           "bgcolor": "#E5ECF6",
           "caxis": {
            "gridcolor": "white",
            "linecolor": "white",
            "ticks": ""
           }
          },
          "title": {
           "x": 0.05
          },
          "xaxis": {
           "automargin": true,
           "gridcolor": "white",
           "linecolor": "white",
           "ticks": "",
           "title": {
            "standoff": 15
           },
           "zerolinecolor": "white",
           "zerolinewidth": 2
          },
          "yaxis": {
           "automargin": true,
           "gridcolor": "white",
           "linecolor": "white",
           "ticks": "",
           "title": {
            "standoff": 15
           },
           "zerolinecolor": "white",
           "zerolinewidth": 2
          }
         }
        },
        "title": {
         "text": "IPA References Ratio in the Turkish Parliament (2011-2022)",
         "x": 0.5,
         "xanchor": "center",
         "yanchor": "top"
        },
        "width": 1000,
        "xaxis": {
         "nticks": 20,
         "range": [
          "2010-10-01T00:00:00",
          "2022-08-30T00:00:00"
         ],
         "tickmode": "array",
         "ticktext": [
          "2011",
          "2012",
          "2013",
          "2014",
          "2015",
          "2016",
          "2017",
          "2018",
          "2019",
          "2020",
          "2021",
          "2022"
         ],
         "tickvals": [
          "2011-01-01T00:00:00",
          "2012-01-01T00:00:00",
          "2013-01-01T00:00:00",
          "2014-01-01T00:00:00",
          "2015-01-01T00:00:00",
          "2016-01-01T00:00:00",
          "2017-01-01T00:00:00",
          "2018-01-01T00:00:00",
          "2019-01-01T00:00:00",
          "2020-01-01T00:00:00",
          "2021-01-01T00:00:00",
          "2022-01-01T00:00:00"
         ],
         "title": {
          "text": "Year"
         }
        },
        "yaxis": {
         "title": {
          "text": "Number of IPA-related Speeches"
         }
        }
       }
      }
     },
     "metadata": {},
     "output_type": "display_data"
    }
   ],
   "source": [
    "import pandas as pd\n",
    "import plotly.graph_objects as go\n",
    "from statsmodels.nonparametric.smoothers_lowess import lowess\n",
    "\n",
    "# Read CSV file\n",
    "tr_mins = pd.read_csv('../data/tr_minutes_tks.csv')\n",
    "\n",
    "# Convert 'Date' column to datetime\n",
    "tr_mins['Date'] = pd.to_datetime(tr_mins['Date'])\n",
    "tr_mins['MonthYear'] = tr_mins['Date'].dt.to_period('M')\n",
    "\n",
    "# Total speeches per month\n",
    "total_speeches = tr_mins.groupby(['MonthYear']).size().reset_index(name='Total Speeches')\n",
    "\n",
    "# Filter for IPA speeches\n",
    "ipa_speeches = tr_mins[\n",
    "    tr_mins['speech'].str.contains('IPA', regex=True) | tr_mins['speech'].str.contains('Erasmus', regex=True) | tr_mins['speech'].str.contains('Horizon', regex=True) |\n",
    "    tr_mins['speech'].str.contains('Katılım Öncesi Mali Yardım Aracı', regex=True)\n",
    "]\n",
    "ipa_speech_count = ipa_speeches.groupby(['MonthYear']).size().reset_index(name='IPA Speech Count')\n",
    "\n",
    "# Merge IPA speech count with total speech count\n",
    "speech_count = pd.merge(total_speeches, ipa_speech_count, on='MonthYear', how='left').fillna(0)\n",
    "\n",
    "# Calculate the ratio of IPA references to total speeches\n",
    "speech_count['IPA Ratio'] = speech_count['IPA Speech Count'] / speech_count['Total Speeches']\n",
    "\n",
    "# Convert MonthYear back to datetime for plotting\n",
    "speech_count['MonthYear'] = speech_count['MonthYear'].dt.to_timestamp()\n",
    "\n",
    "# Create a new figure for ratio of IPA references\n",
    "fig3 = go.Figure()\n",
    "\n",
    "# Add trace for ratio of IPA references\n",
    "fig3.add_trace(go.Scatter(x=speech_count['MonthYear'], y=speech_count['IPA Ratio'], \n",
    "                          mode='lines', name='IPA Reference Ratio',\n",
    "                          line=dict(color='blue', dash='dash')))\n",
    "\n",
    "# Define xaxis range and ticks\n",
    "xaxis_range = [pd.to_datetime('2010-10-01'), pd.to_datetime('2022-08-30')]\n",
    "xaxis_ticks = [pd.to_datetime(f'{year}-01-01') for year in range(2011, 2023)]\n",
    "\n",
    "\n",
    "fig3.update_layout(title={\n",
    "    'text': 'IPA References Ratio in the Turkish Parliament (2011-2022)', \n",
    "    'x': 0.5,\n",
    "    'xanchor': 'center', \n",
    "    'yanchor': 'top' \n",
    "}, \n",
    "    xaxis_title='Year', \n",
    "    yaxis_title='Number of IPA-related Speeches',\n",
    "    xaxis=dict(\n",
    "        range=xaxis_range,\n",
    "        tickmode='array',\n",
    "        tickvals=xaxis_ticks,\n",
    "        ticktext=[str(year) for year in range(2011, 2023)]\n",
    "    ),\n",
    "    showlegend=True,\n",
    "    height=600, width=1000\n",
    ")\n",
    "\n",
    "fig3.update_xaxes(nticks=20)\n",
    "\n",
    "fig3.show()\n"
   ]
  },
  {
   "cell_type": "code",
   "execution_count": 16,
   "metadata": {},
   "outputs": [
    {
     "data": {
      "application/vnd.plotly.v1+json": {
       "config": {
        "plotlyServerURL": "https://plot.ly"
       },
       "data": [
        {
         "line": {
          "color": "blue",
          "dash": "dash"
         },
         "mode": "lines",
         "name": "IPA Reference Ratio",
         "type": "scatter",
         "x": [
          "2011-02-01T00:00:00",
          "2011-03-01T00:00:00",
          "2011-04-01T00:00:00",
          "2011-05-01T00:00:00",
          "2011-06-01T00:00:00",
          "2011-07-01T00:00:00",
          "2011-09-01T00:00:00",
          "2011-10-01T00:00:00",
          "2011-11-01T00:00:00",
          "2011-12-01T00:00:00",
          "2012-02-01T00:00:00",
          "2012-07-01T00:00:00",
          "2012-08-01T00:00:00",
          "2012-09-01T00:00:00",
          "2012-10-01T00:00:00",
          "2012-11-01T00:00:00",
          "2012-12-01T00:00:00",
          "2013-01-01T00:00:00",
          "2013-02-01T00:00:00",
          "2013-03-01T00:00:00",
          "2013-04-01T00:00:00",
          "2013-05-01T00:00:00",
          "2013-06-01T00:00:00",
          "2013-07-01T00:00:00",
          "2013-08-01T00:00:00",
          "2013-09-01T00:00:00",
          "2013-10-01T00:00:00",
          "2013-11-01T00:00:00",
          "2013-12-01T00:00:00",
          "2014-04-01T00:00:00",
          "2014-05-01T00:00:00",
          "2014-06-01T00:00:00",
          "2014-07-01T00:00:00",
          "2014-08-01T00:00:00",
          "2014-09-01T00:00:00",
          "2014-10-01T00:00:00",
          "2014-11-01T00:00:00",
          "2014-12-01T00:00:00",
          "2015-01-01T00:00:00",
          "2015-02-01T00:00:00",
          "2015-03-01T00:00:00",
          "2015-04-01T00:00:00",
          "2015-05-01T00:00:00",
          "2015-06-01T00:00:00",
          "2015-07-01T00:00:00",
          "2015-09-01T00:00:00",
          "2015-10-01T00:00:00",
          "2015-11-01T00:00:00",
          "2015-12-01T00:00:00",
          "2016-01-01T00:00:00",
          "2016-02-01T00:00:00",
          "2016-03-01T00:00:00",
          "2016-06-01T00:00:00",
          "2016-08-01T00:00:00",
          "2016-10-01T00:00:00",
          "2016-11-01T00:00:00",
          "2016-12-01T00:00:00",
          "2017-03-01T00:00:00",
          "2017-04-01T00:00:00",
          "2017-05-01T00:00:00",
          "2017-06-01T00:00:00",
          "2017-07-01T00:00:00",
          "2017-08-01T00:00:00",
          "2017-09-01T00:00:00",
          "2017-10-01T00:00:00",
          "2017-11-01T00:00:00",
          "2017-12-01T00:00:00",
          "2018-03-01T00:00:00",
          "2018-04-01T00:00:00",
          "2018-05-01T00:00:00",
          "2018-06-01T00:00:00",
          "2018-07-01T00:00:00",
          "2018-09-01T00:00:00",
          "2018-10-01T00:00:00",
          "2018-11-01T00:00:00",
          "2018-12-01T00:00:00",
          "2019-01-01T00:00:00",
          "2019-02-01T00:00:00",
          "2019-03-01T00:00:00",
          "2019-04-01T00:00:00",
          "2019-05-01T00:00:00",
          "2019-06-01T00:00:00",
          "2019-07-01T00:00:00",
          "2019-09-01T00:00:00",
          "2019-10-01T00:00:00",
          "2019-11-01T00:00:00",
          "2019-12-01T00:00:00",
          "2020-01-01T00:00:00",
          "2020-02-01T00:00:00",
          "2020-03-01T00:00:00",
          "2020-04-01T00:00:00",
          "2020-05-01T00:00:00",
          "2020-10-01T00:00:00",
          "2020-11-01T00:00:00",
          "2020-12-01T00:00:00",
          "2021-01-01T00:00:00",
          "2021-02-01T00:00:00",
          "2021-03-01T00:00:00",
          "2021-04-01T00:00:00",
          "2021-05-01T00:00:00",
          "2021-06-01T00:00:00",
          "2021-07-01T00:00:00",
          "2021-09-01T00:00:00",
          "2021-10-01T00:00:00",
          "2021-11-01T00:00:00",
          "2021-12-01T00:00:00",
          "2022-01-01T00:00:00",
          "2022-02-01T00:00:00",
          "2022-05-01T00:00:00"
         ],
         "y": [
          0,
          0,
          0,
          0,
          0,
          0.03125,
          0,
          0.029411764705882353,
          0.05555555555555555,
          0.04,
          0,
          0.15384615384615385,
          0,
          0.11764705882352941,
          0.0625,
          0.045454545454545456,
          0.025974025974025976,
          0.2222222222222222,
          0.1111111111111111,
          0.01694915254237288,
          0,
          0.10344827586206896,
          0.10526315789473684,
          0,
          0.07142857142857142,
          0,
          0,
          0.038461538461538464,
          0.13333333333333333,
          0.07692307692307693,
          0.037037037037037035,
          0.13793103448275862,
          0.10638297872340426,
          0,
          0.5,
          0.18421052631578946,
          0.125,
          0.2967032967032967,
          0,
          0.3076923076923077,
          0.21212121212121213,
          0.38461538461538464,
          0.05,
          0.04054054054054054,
          0.06666666666666667,
          0,
          0.38461538461538464,
          0,
          0.15,
          0,
          0.07936507936507936,
          0,
          0,
          0.25,
          0.04081632653061224,
          0,
          0.21333333333333335,
          0,
          0.13636363636363635,
          0.015384615384615385,
          0.06818181818181818,
          0,
          0.08,
          0,
          0,
          0.038461538461538464,
          0.3333333333333333,
          0.03333333333333333,
          0.13333333333333333,
          0,
          0.1,
          0,
          0,
          0.4583333333333333,
          0.2,
          0,
          0,
          0,
          0.21052631578947367,
          0,
          0,
          0.08333333333333333,
          0.05263157894736842,
          0.1111111111111111,
          0.08163265306122448,
          0.14285714285714285,
          0.06666666666666667,
          0.2222222222222222,
          0.0967741935483871,
          0,
          0,
          0,
          0.1111111111111111,
          0.043478260869565216,
          0.0975609756097561,
          0,
          0.029411764705882353,
          0.078125,
          0.1111111111111111,
          0.034482758620689655,
          0,
          0.2564102564102564,
          0,
          0.06818181818181818,
          0.044444444444444446,
          0.13725490196078433,
          0,
          0,
          0
         ]
        }
       ],
       "layout": {
        "height": 600,
        "showlegend": true,
        "template": {
         "data": {
          "bar": [
           {
            "error_x": {
             "color": "#2a3f5f"
            },
            "error_y": {
             "color": "#2a3f5f"
            },
            "marker": {
             "line": {
              "color": "#E5ECF6",
              "width": 0.5
             },
             "pattern": {
              "fillmode": "overlay",
              "size": 10,
              "solidity": 0.2
             }
            },
            "type": "bar"
           }
          ],
          "barpolar": [
           {
            "marker": {
             "line": {
              "color": "#E5ECF6",
              "width": 0.5
             },
             "pattern": {
              "fillmode": "overlay",
              "size": 10,
              "solidity": 0.2
             }
            },
            "type": "barpolar"
           }
          ],
          "carpet": [
           {
            "aaxis": {
             "endlinecolor": "#2a3f5f",
             "gridcolor": "white",
             "linecolor": "white",
             "minorgridcolor": "white",
             "startlinecolor": "#2a3f5f"
            },
            "baxis": {
             "endlinecolor": "#2a3f5f",
             "gridcolor": "white",
             "linecolor": "white",
             "minorgridcolor": "white",
             "startlinecolor": "#2a3f5f"
            },
            "type": "carpet"
           }
          ],
          "choropleth": [
           {
            "colorbar": {
             "outlinewidth": 0,
             "ticks": ""
            },
            "type": "choropleth"
           }
          ],
          "contour": [
           {
            "colorbar": {
             "outlinewidth": 0,
             "ticks": ""
            },
            "colorscale": [
             [
              0,
              "#0d0887"
             ],
             [
              0.1111111111111111,
              "#46039f"
             ],
             [
              0.2222222222222222,
              "#7201a8"
             ],
             [
              0.3333333333333333,
              "#9c179e"
             ],
             [
              0.4444444444444444,
              "#bd3786"
             ],
             [
              0.5555555555555556,
              "#d8576b"
             ],
             [
              0.6666666666666666,
              "#ed7953"
             ],
             [
              0.7777777777777778,
              "#fb9f3a"
             ],
             [
              0.8888888888888888,
              "#fdca26"
             ],
             [
              1,
              "#f0f921"
             ]
            ],
            "type": "contour"
           }
          ],
          "contourcarpet": [
           {
            "colorbar": {
             "outlinewidth": 0,
             "ticks": ""
            },
            "type": "contourcarpet"
           }
          ],
          "heatmap": [
           {
            "colorbar": {
             "outlinewidth": 0,
             "ticks": ""
            },
            "colorscale": [
             [
              0,
              "#0d0887"
             ],
             [
              0.1111111111111111,
              "#46039f"
             ],
             [
              0.2222222222222222,
              "#7201a8"
             ],
             [
              0.3333333333333333,
              "#9c179e"
             ],
             [
              0.4444444444444444,
              "#bd3786"
             ],
             [
              0.5555555555555556,
              "#d8576b"
             ],
             [
              0.6666666666666666,
              "#ed7953"
             ],
             [
              0.7777777777777778,
              "#fb9f3a"
             ],
             [
              0.8888888888888888,
              "#fdca26"
             ],
             [
              1,
              "#f0f921"
             ]
            ],
            "type": "heatmap"
           }
          ],
          "heatmapgl": [
           {
            "colorbar": {
             "outlinewidth": 0,
             "ticks": ""
            },
            "colorscale": [
             [
              0,
              "#0d0887"
             ],
             [
              0.1111111111111111,
              "#46039f"
             ],
             [
              0.2222222222222222,
              "#7201a8"
             ],
             [
              0.3333333333333333,
              "#9c179e"
             ],
             [
              0.4444444444444444,
              "#bd3786"
             ],
             [
              0.5555555555555556,
              "#d8576b"
             ],
             [
              0.6666666666666666,
              "#ed7953"
             ],
             [
              0.7777777777777778,
              "#fb9f3a"
             ],
             [
              0.8888888888888888,
              "#fdca26"
             ],
             [
              1,
              "#f0f921"
             ]
            ],
            "type": "heatmapgl"
           }
          ],
          "histogram": [
           {
            "marker": {
             "pattern": {
              "fillmode": "overlay",
              "size": 10,
              "solidity": 0.2
             }
            },
            "type": "histogram"
           }
          ],
          "histogram2d": [
           {
            "colorbar": {
             "outlinewidth": 0,
             "ticks": ""
            },
            "colorscale": [
             [
              0,
              "#0d0887"
             ],
             [
              0.1111111111111111,
              "#46039f"
             ],
             [
              0.2222222222222222,
              "#7201a8"
             ],
             [
              0.3333333333333333,
              "#9c179e"
             ],
             [
              0.4444444444444444,
              "#bd3786"
             ],
             [
              0.5555555555555556,
              "#d8576b"
             ],
             [
              0.6666666666666666,
              "#ed7953"
             ],
             [
              0.7777777777777778,
              "#fb9f3a"
             ],
             [
              0.8888888888888888,
              "#fdca26"
             ],
             [
              1,
              "#f0f921"
             ]
            ],
            "type": "histogram2d"
           }
          ],
          "histogram2dcontour": [
           {
            "colorbar": {
             "outlinewidth": 0,
             "ticks": ""
            },
            "colorscale": [
             [
              0,
              "#0d0887"
             ],
             [
              0.1111111111111111,
              "#46039f"
             ],
             [
              0.2222222222222222,
              "#7201a8"
             ],
             [
              0.3333333333333333,
              "#9c179e"
             ],
             [
              0.4444444444444444,
              "#bd3786"
             ],
             [
              0.5555555555555556,
              "#d8576b"
             ],
             [
              0.6666666666666666,
              "#ed7953"
             ],
             [
              0.7777777777777778,
              "#fb9f3a"
             ],
             [
              0.8888888888888888,
              "#fdca26"
             ],
             [
              1,
              "#f0f921"
             ]
            ],
            "type": "histogram2dcontour"
           }
          ],
          "mesh3d": [
           {
            "colorbar": {
             "outlinewidth": 0,
             "ticks": ""
            },
            "type": "mesh3d"
           }
          ],
          "parcoords": [
           {
            "line": {
             "colorbar": {
              "outlinewidth": 0,
              "ticks": ""
             }
            },
            "type": "parcoords"
           }
          ],
          "pie": [
           {
            "automargin": true,
            "type": "pie"
           }
          ],
          "scatter": [
           {
            "fillpattern": {
             "fillmode": "overlay",
             "size": 10,
             "solidity": 0.2
            },
            "type": "scatter"
           }
          ],
          "scatter3d": [
           {
            "line": {
             "colorbar": {
              "outlinewidth": 0,
              "ticks": ""
             }
            },
            "marker": {
             "colorbar": {
              "outlinewidth": 0,
              "ticks": ""
             }
            },
            "type": "scatter3d"
           }
          ],
          "scattercarpet": [
           {
            "marker": {
             "colorbar": {
              "outlinewidth": 0,
              "ticks": ""
             }
            },
            "type": "scattercarpet"
           }
          ],
          "scattergeo": [
           {
            "marker": {
             "colorbar": {
              "outlinewidth": 0,
              "ticks": ""
             }
            },
            "type": "scattergeo"
           }
          ],
          "scattergl": [
           {
            "marker": {
             "colorbar": {
              "outlinewidth": 0,
              "ticks": ""
             }
            },
            "type": "scattergl"
           }
          ],
          "scattermapbox": [
           {
            "marker": {
             "colorbar": {
              "outlinewidth": 0,
              "ticks": ""
             }
            },
            "type": "scattermapbox"
           }
          ],
          "scatterpolar": [
           {
            "marker": {
             "colorbar": {
              "outlinewidth": 0,
              "ticks": ""
             }
            },
            "type": "scatterpolar"
           }
          ],
          "scatterpolargl": [
           {
            "marker": {
             "colorbar": {
              "outlinewidth": 0,
              "ticks": ""
             }
            },
            "type": "scatterpolargl"
           }
          ],
          "scatterternary": [
           {
            "marker": {
             "colorbar": {
              "outlinewidth": 0,
              "ticks": ""
             }
            },
            "type": "scatterternary"
           }
          ],
          "surface": [
           {
            "colorbar": {
             "outlinewidth": 0,
             "ticks": ""
            },
            "colorscale": [
             [
              0,
              "#0d0887"
             ],
             [
              0.1111111111111111,
              "#46039f"
             ],
             [
              0.2222222222222222,
              "#7201a8"
             ],
             [
              0.3333333333333333,
              "#9c179e"
             ],
             [
              0.4444444444444444,
              "#bd3786"
             ],
             [
              0.5555555555555556,
              "#d8576b"
             ],
             [
              0.6666666666666666,
              "#ed7953"
             ],
             [
              0.7777777777777778,
              "#fb9f3a"
             ],
             [
              0.8888888888888888,
              "#fdca26"
             ],
             [
              1,
              "#f0f921"
             ]
            ],
            "type": "surface"
           }
          ],
          "table": [
           {
            "cells": {
             "fill": {
              "color": "#EBF0F8"
             },
             "line": {
              "color": "white"
             }
            },
            "header": {
             "fill": {
              "color": "#C8D4E3"
             },
             "line": {
              "color": "white"
             }
            },
            "type": "table"
           }
          ]
         },
         "layout": {
          "annotationdefaults": {
           "arrowcolor": "#2a3f5f",
           "arrowhead": 0,
           "arrowwidth": 1
          },
          "autotypenumbers": "strict",
          "coloraxis": {
           "colorbar": {
            "outlinewidth": 0,
            "ticks": ""
           }
          },
          "colorscale": {
           "diverging": [
            [
             0,
             "#8e0152"
            ],
            [
             0.1,
             "#c51b7d"
            ],
            [
             0.2,
             "#de77ae"
            ],
            [
             0.3,
             "#f1b6da"
            ],
            [
             0.4,
             "#fde0ef"
            ],
            [
             0.5,
             "#f7f7f7"
            ],
            [
             0.6,
             "#e6f5d0"
            ],
            [
             0.7,
             "#b8e186"
            ],
            [
             0.8,
             "#7fbc41"
            ],
            [
             0.9,
             "#4d9221"
            ],
            [
             1,
             "#276419"
            ]
           ],
           "sequential": [
            [
             0,
             "#0d0887"
            ],
            [
             0.1111111111111111,
             "#46039f"
            ],
            [
             0.2222222222222222,
             "#7201a8"
            ],
            [
             0.3333333333333333,
             "#9c179e"
            ],
            [
             0.4444444444444444,
             "#bd3786"
            ],
            [
             0.5555555555555556,
             "#d8576b"
            ],
            [
             0.6666666666666666,
             "#ed7953"
            ],
            [
             0.7777777777777778,
             "#fb9f3a"
            ],
            [
             0.8888888888888888,
             "#fdca26"
            ],
            [
             1,
             "#f0f921"
            ]
           ],
           "sequentialminus": [
            [
             0,
             "#0d0887"
            ],
            [
             0.1111111111111111,
             "#46039f"
            ],
            [
             0.2222222222222222,
             "#7201a8"
            ],
            [
             0.3333333333333333,
             "#9c179e"
            ],
            [
             0.4444444444444444,
             "#bd3786"
            ],
            [
             0.5555555555555556,
             "#d8576b"
            ],
            [
             0.6666666666666666,
             "#ed7953"
            ],
            [
             0.7777777777777778,
             "#fb9f3a"
            ],
            [
             0.8888888888888888,
             "#fdca26"
            ],
            [
             1,
             "#f0f921"
            ]
           ]
          },
          "colorway": [
           "#636efa",
           "#EF553B",
           "#00cc96",
           "#ab63fa",
           "#FFA15A",
           "#19d3f3",
           "#FF6692",
           "#B6E880",
           "#FF97FF",
           "#FECB52"
          ],
          "font": {
           "color": "#2a3f5f"
          },
          "geo": {
           "bgcolor": "white",
           "lakecolor": "white",
           "landcolor": "#E5ECF6",
           "showlakes": true,
           "showland": true,
           "subunitcolor": "white"
          },
          "hoverlabel": {
           "align": "left"
          },
          "hovermode": "closest",
          "mapbox": {
           "style": "light"
          },
          "paper_bgcolor": "white",
          "plot_bgcolor": "#E5ECF6",
          "polar": {
           "angularaxis": {
            "gridcolor": "white",
            "linecolor": "white",
            "ticks": ""
           },
           "bgcolor": "#E5ECF6",
           "radialaxis": {
            "gridcolor": "white",
            "linecolor": "white",
            "ticks": ""
           }
          },
          "scene": {
           "xaxis": {
            "backgroundcolor": "#E5ECF6",
            "gridcolor": "white",
            "gridwidth": 2,
            "linecolor": "white",
            "showbackground": true,
            "ticks": "",
            "zerolinecolor": "white"
           },
           "yaxis": {
            "backgroundcolor": "#E5ECF6",
            "gridcolor": "white",
            "gridwidth": 2,
            "linecolor": "white",
            "showbackground": true,
            "ticks": "",
            "zerolinecolor": "white"
           },
           "zaxis": {
            "backgroundcolor": "#E5ECF6",
            "gridcolor": "white",
            "gridwidth": 2,
            "linecolor": "white",
            "showbackground": true,
            "ticks": "",
            "zerolinecolor": "white"
           }
          },
          "shapedefaults": {
           "line": {
            "color": "#2a3f5f"
           }
          },
          "ternary": {
           "aaxis": {
            "gridcolor": "white",
            "linecolor": "white",
            "ticks": ""
           },
           "baxis": {
            "gridcolor": "white",
            "linecolor": "white",
            "ticks": ""
           },
           "bgcolor": "#E5ECF6",
           "caxis": {
            "gridcolor": "white",
            "linecolor": "white",
            "ticks": ""
           }
          },
          "title": {
           "x": 0.05
          },
          "xaxis": {
           "automargin": true,
           "gridcolor": "white",
           "linecolor": "white",
           "ticks": "",
           "title": {
            "standoff": 15
           },
           "zerolinecolor": "white",
           "zerolinewidth": 2
          },
          "yaxis": {
           "automargin": true,
           "gridcolor": "white",
           "linecolor": "white",
           "ticks": "",
           "title": {
            "standoff": 15
           },
           "zerolinecolor": "white",
           "zerolinewidth": 2
          }
         }
        },
        "title": {
         "text": "IPA References Ratio in the Serbian Parliament (2011-2022)",
         "x": 0.5,
         "xanchor": "center",
         "yanchor": "top"
        },
        "width": 1000,
        "xaxis": {
         "nticks": 20,
         "range": [
          "2010-10-01T00:00:00",
          "2022-08-30T00:00:00"
         ],
         "tickmode": "array",
         "ticktext": [
          "2011",
          "2012",
          "2013",
          "2014",
          "2015",
          "2016",
          "2017",
          "2018",
          "2019",
          "2020",
          "2021",
          "2022"
         ],
         "tickvals": [
          "2011-01-01T00:00:00",
          "2012-01-01T00:00:00",
          "2013-01-01T00:00:00",
          "2014-01-01T00:00:00",
          "2015-01-01T00:00:00",
          "2016-01-01T00:00:00",
          "2017-01-01T00:00:00",
          "2018-01-01T00:00:00",
          "2019-01-01T00:00:00",
          "2020-01-01T00:00:00",
          "2021-01-01T00:00:00",
          "2022-01-01T00:00:00"
         ],
         "title": {
          "text": "Year"
         }
        },
        "yaxis": {
         "title": {
          "text": "Number of IPA-related Speeches"
         }
        }
       }
      }
     },
     "metadata": {},
     "output_type": "display_data"
    }
   ],
   "source": [
    "import pandas as pd\n",
    "import plotly.graph_objects as go\n",
    "from statsmodels.nonparametric.smoothers_lowess import lowess\n",
    "\n",
    "# Read CSV file\n",
    "rs_mins = pd.read_csv('../data/rs_minutes_tks.csv')\n",
    "\n",
    "# Convert 'Date' column to datetime\n",
    "rs_mins['Date'] = pd.to_datetime(rs_mins['Date'])\n",
    "rs_mins['MonthYear'] = rs_mins['Date'].dt.to_period('M')\n",
    "\n",
    "# Total speeches per month\n",
    "total_speeches = rs_mins.groupby(['MonthYear']).size().reset_index(name='Total Speeches')\n",
    "\n",
    "# Filter for IPA speeches\n",
    "ipa_speeches = rs_mins[\n",
    "    rs_mins['speech'].str.contains('IPA', regex=True) | rs_mins['speech'].str.contains('Erasmus', regex=True) | rs_mins['speech'].str.contains('Horizon', regex=True) |\n",
    "    rs_mins['speech'].str.contains('Instrument pretpristupne finansijske pomoći', regex=True)\n",
    "]\n",
    "ipa_speech_count = ipa_speeches.groupby(['MonthYear']).size().reset_index(name='IPA Speech Count')\n",
    "\n",
    "# Merge IPA speech count with total speech count\n",
    "speech_count = pd.merge(total_speeches, ipa_speech_count, on='MonthYear', how='left').fillna(0)\n",
    "\n",
    "# Calculate the ratio of IPA references to total speeches\n",
    "speech_count['IPA Ratio'] = speech_count['IPA Speech Count'] / speech_count['Total Speeches']\n",
    "\n",
    "# Convert MonthYear back to datetime for plotting\n",
    "speech_count['MonthYear'] = speech_count['MonthYear'].dt.to_timestamp()\n",
    "\n",
    "# Create a new figure for ratio of IPA references\n",
    "fig3 = go.Figure()\n",
    "\n",
    "# Add trace for ratio of IPA references\n",
    "fig3.add_trace(go.Scatter(x=speech_count['MonthYear'], y=speech_count['IPA Ratio'], \n",
    "                          mode='lines', name='IPA Reference Ratio',\n",
    "                          line=dict(color='blue', dash='dash')))\n",
    "\n",
    "# Define xaxis range and ticks\n",
    "xaxis_range = [pd.to_datetime('2010-10-01'), pd.to_datetime('2022-08-30')]\n",
    "xaxis_ticks = [pd.to_datetime(f'{year}-01-01') for year in range(2011, 2023)]\n",
    "\n",
    "# Update layout for fig3\n",
    "fig3.update_layout(title={\n",
    "    'text': 'IPA References Ratio in the Serbian Parliament (2011-2022)', \n",
    "    'x': 0.5,  # Center horizontally\n",
    "    'xanchor': 'center',  # Anchor the title at its center\n",
    "    'yanchor': 'top'  # Anchor the title at the top\n",
    "}, \n",
    "    xaxis_title='Year', \n",
    "    yaxis_title='Number of IPA-related Speeches',  # Fixed unmatched single quote\n",
    "    xaxis=dict(\n",
    "        range=xaxis_range,\n",
    "        tickmode='array',\n",
    "        tickvals=xaxis_ticks,\n",
    "        ticktext=[str(year) for year in range(2011, 2023)]\n",
    "    ),\n",
    "    showlegend=True,\n",
    "    height=600, width=1000\n",
    ")\n",
    "\n",
    "fig3.update_xaxes(nticks=20)\n",
    "\n",
    "fig3.show()\n"
   ]
  }
 ],
 "metadata": {
  "kernelspec": {
   "display_name": "base",
   "language": "python",
   "name": "python3"
  },
  "language_info": {
   "codemirror_mode": {
    "name": "ipython",
    "version": 3
   },
   "file_extension": ".py",
   "mimetype": "text/x-python",
   "name": "python",
   "nbconvert_exporter": "python",
   "pygments_lexer": "ipython3",
   "version": "3.11.4"
  },
  "orig_nbformat": 4
 },
 "nbformat": 4,
 "nbformat_minor": 2
}
